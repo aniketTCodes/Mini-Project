{
 "cells": [
  {
   "cell_type": "code",
   "execution_count": 1,
   "id": "7c38e342-c93c-490c-81fa-2bc6e2b367b9",
   "metadata": {},
   "outputs": [],
   "source": [
    "import pandas as pd\n",
    "import numpy as np\n",
    "import matplotlib.pyplot as plt\n",
    "import seaborn as sns\n",
    "import warnings\n",
    "warnings.filterwarnings(\"ignore\")"
   ]
  },
  {
   "cell_type": "code",
   "execution_count": 2,
   "id": "0c8b4a1c-b7a5-45ec-808d-a931f8afd0e0",
   "metadata": {},
   "outputs": [],
   "source": [
    "data=pd.read_csv(\"dataset.csv\")\n"
   ]
  },
  {
   "cell_type": "code",
   "execution_count": 3,
   "id": "50557ea0-ad63-4ed5-b4cb-034125df98f0",
   "metadata": {},
   "outputs": [
    {
     "data": {
      "text/html": [
       "<div>\n",
       "<style scoped>\n",
       "    .dataframe tbody tr th:only-of-type {\n",
       "        vertical-align: middle;\n",
       "    }\n",
       "\n",
       "    .dataframe tbody tr th {\n",
       "        vertical-align: top;\n",
       "    }\n",
       "\n",
       "    .dataframe thead th {\n",
       "        text-align: right;\n",
       "    }\n",
       "</style>\n",
       "<table border=\"1\" class=\"dataframe\">\n",
       "  <thead>\n",
       "    <tr style=\"text-align: right;\">\n",
       "      <th></th>\n",
       "      <th>From Date</th>\n",
       "      <th>To Date</th>\n",
       "      <th>NO</th>\n",
       "      <th>NO2</th>\n",
       "      <th>NOx</th>\n",
       "      <th>Ozone</th>\n",
       "      <th>CO</th>\n",
       "      <th>NH3</th>\n",
       "      <th>PM10</th>\n",
       "      <th>PM2.5</th>\n",
       "      <th>Benzene</th>\n",
       "      <th>SO2</th>\n",
       "    </tr>\n",
       "  </thead>\n",
       "  <tbody>\n",
       "    <tr>\n",
       "      <th>0</th>\n",
       "      <td>01-01-2017 00:00</td>\n",
       "      <td>02-01-2017 00:00</td>\n",
       "      <td>155.50</td>\n",
       "      <td>48.37</td>\n",
       "      <td>151.97</td>\n",
       "      <td>NaN</td>\n",
       "      <td>NaN</td>\n",
       "      <td>217.66</td>\n",
       "      <td>568.56</td>\n",
       "      <td>524.70</td>\n",
       "      <td>NaN</td>\n",
       "      <td>NaN</td>\n",
       "    </tr>\n",
       "    <tr>\n",
       "      <th>1</th>\n",
       "      <td>02-01-2017 00:00</td>\n",
       "      <td>03-01-2017 00:00</td>\n",
       "      <td>139.47</td>\n",
       "      <td>46.49</td>\n",
       "      <td>137.99</td>\n",
       "      <td>NaN</td>\n",
       "      <td>NaN</td>\n",
       "      <td>205.60</td>\n",
       "      <td>434.06</td>\n",
       "      <td>374.07</td>\n",
       "      <td>NaN</td>\n",
       "      <td>NaN</td>\n",
       "    </tr>\n",
       "    <tr>\n",
       "      <th>2</th>\n",
       "      <td>03-01-2017 00:00</td>\n",
       "      <td>04-01-2017 00:00</td>\n",
       "      <td>142.26</td>\n",
       "      <td>50.00</td>\n",
       "      <td>142.23</td>\n",
       "      <td>NaN</td>\n",
       "      <td>NaN</td>\n",
       "      <td>209.59</td>\n",
       "      <td>250.28</td>\n",
       "      <td>167.58</td>\n",
       "      <td>NaN</td>\n",
       "      <td>NaN</td>\n",
       "    </tr>\n",
       "    <tr>\n",
       "      <th>3</th>\n",
       "      <td>04-01-2017 00:00</td>\n",
       "      <td>05-01-2017 00:00</td>\n",
       "      <td>198.93</td>\n",
       "      <td>54.62</td>\n",
       "      <td>190.66</td>\n",
       "      <td>NaN</td>\n",
       "      <td>NaN</td>\n",
       "      <td>272.34</td>\n",
       "      <td>239.79</td>\n",
       "      <td>179.03</td>\n",
       "      <td>NaN</td>\n",
       "      <td>NaN</td>\n",
       "    </tr>\n",
       "    <tr>\n",
       "      <th>4</th>\n",
       "      <td>05-01-2017 00:00</td>\n",
       "      <td>06-01-2017 00:00</td>\n",
       "      <td>153.33</td>\n",
       "      <td>60.19</td>\n",
       "      <td>156.64</td>\n",
       "      <td>NaN</td>\n",
       "      <td>NaN</td>\n",
       "      <td>230.84</td>\n",
       "      <td>239.06</td>\n",
       "      <td>185.73</td>\n",
       "      <td>NaN</td>\n",
       "      <td>NaN</td>\n",
       "    </tr>\n",
       "  </tbody>\n",
       "</table>\n",
       "</div>"
      ],
      "text/plain": [
       "          From Date           To Date      NO    NO2     NOx  Ozone  CO  \\\n",
       "0  01-01-2017 00:00  02-01-2017 00:00  155.50  48.37  151.97    NaN NaN   \n",
       "1  02-01-2017 00:00  03-01-2017 00:00  139.47  46.49  137.99    NaN NaN   \n",
       "2  03-01-2017 00:00  04-01-2017 00:00  142.26  50.00  142.23    NaN NaN   \n",
       "3  04-01-2017 00:00  05-01-2017 00:00  198.93  54.62  190.66    NaN NaN   \n",
       "4  05-01-2017 00:00  06-01-2017 00:00  153.33  60.19  156.64    NaN NaN   \n",
       "\n",
       "      NH3    PM10   PM2.5  Benzene  SO2  \n",
       "0  217.66  568.56  524.70      NaN  NaN  \n",
       "1  205.60  434.06  374.07      NaN  NaN  \n",
       "2  209.59  250.28  167.58      NaN  NaN  \n",
       "3  272.34  239.79  179.03      NaN  NaN  \n",
       "4  230.84  239.06  185.73      NaN  NaN  "
      ]
     },
     "execution_count": 3,
     "metadata": {},
     "output_type": "execute_result"
    }
   ],
   "source": [
    "data.head()"
   ]
  },
  {
   "cell_type": "code",
   "execution_count": 4,
   "id": "ae40b70f-1f07-4f41-98f2-33d3549bf14f",
   "metadata": {
    "scrolled": true
   },
   "outputs": [
    {
     "name": "stdout",
     "output_type": "stream",
     "text": [
      "<class 'pandas.core.frame.DataFrame'>\n",
      "RangeIndex: 2454 entries, 0 to 2453\n",
      "Data columns (total 12 columns):\n",
      " #   Column     Non-Null Count  Dtype  \n",
      "---  ------     --------------  -----  \n",
      " 0   From Date  2454 non-null   object \n",
      " 1   To Date    2454 non-null   object \n",
      " 2   NO         2302 non-null   float64\n",
      " 3   NO2        2334 non-null   float64\n",
      " 4   NOx        2335 non-null   float64\n",
      " 5   Ozone      1910 non-null   float64\n",
      " 6   CO         1918 non-null   float64\n",
      " 7   NH3        2341 non-null   float64\n",
      " 8   PM10       2071 non-null   float64\n",
      " 9   PM2.5      2359 non-null   float64\n",
      " 10  Benzene    1782 non-null   float64\n",
      " 11  SO2        1901 non-null   float64\n",
      "dtypes: float64(10), object(2)\n",
      "memory usage: 230.2+ KB\n"
     ]
    }
   ],
   "source": [
    "data.info()"
   ]
  },
  {
   "cell_type": "code",
   "execution_count": 5,
   "id": "24068c51-c199-4aba-9d12-714f91fbe276",
   "metadata": {},
   "outputs": [
    {
     "data": {
      "text/plain": [
       "From Date      0\n",
       "To Date        0\n",
       "NO           152\n",
       "NO2          120\n",
       "NOx          119\n",
       "Ozone        544\n",
       "CO           536\n",
       "NH3          113\n",
       "PM10         383\n",
       "PM2.5         95\n",
       "Benzene      672\n",
       "SO2          553\n",
       "dtype: int64"
      ]
     },
     "execution_count": 5,
     "metadata": {},
     "output_type": "execute_result"
    }
   ],
   "source": [
    "data.isna().sum()"
   ]
  },
  {
   "cell_type": "code",
   "execution_count": 6,
   "id": "4314563b-fa07-4b70-a579-34bf358672aa",
   "metadata": {},
   "outputs": [
    {
     "data": {
      "text/plain": [
       "(2454, 12)"
      ]
     },
     "execution_count": 6,
     "metadata": {},
     "output_type": "execute_result"
    }
   ],
   "source": [
    "data.shape"
   ]
  },
  {
   "cell_type": "code",
   "execution_count": 7,
   "id": "a65ac0da-1d2c-4100-b3f6-1a60222f651f",
   "metadata": {},
   "outputs": [
    {
     "data": {
      "text/html": [
       "<div>\n",
       "<style scoped>\n",
       "    .dataframe tbody tr th:only-of-type {\n",
       "        vertical-align: middle;\n",
       "    }\n",
       "\n",
       "    .dataframe tbody tr th {\n",
       "        vertical-align: top;\n",
       "    }\n",
       "\n",
       "    .dataframe thead th {\n",
       "        text-align: right;\n",
       "    }\n",
       "</style>\n",
       "<table border=\"1\" class=\"dataframe\">\n",
       "  <thead>\n",
       "    <tr style=\"text-align: right;\">\n",
       "      <th></th>\n",
       "      <th>From Date</th>\n",
       "      <th>To Date</th>\n",
       "      <th>NO</th>\n",
       "      <th>NO2</th>\n",
       "      <th>NOx</th>\n",
       "      <th>Ozone</th>\n",
       "      <th>CO</th>\n",
       "      <th>NH3</th>\n",
       "      <th>PM10</th>\n",
       "      <th>PM2.5</th>\n",
       "      <th>Benzene</th>\n",
       "      <th>SO2</th>\n",
       "    </tr>\n",
       "  </thead>\n",
       "  <tbody>\n",
       "    <tr>\n",
       "      <th>513</th>\n",
       "      <td>29-05-2018 00:00</td>\n",
       "      <td>30-05-2018 00:00</td>\n",
       "      <td>132.14</td>\n",
       "      <td>106.99</td>\n",
       "      <td>168.47</td>\n",
       "      <td>11.52</td>\n",
       "      <td>1.02</td>\n",
       "      <td>146.57</td>\n",
       "      <td>214.22</td>\n",
       "      <td>115.74</td>\n",
       "      <td>0.02</td>\n",
       "      <td>7.14</td>\n",
       "    </tr>\n",
       "    <tr>\n",
       "      <th>514</th>\n",
       "      <td>30-05-2018 00:00</td>\n",
       "      <td>31-05-2018 00:00</td>\n",
       "      <td>67.80</td>\n",
       "      <td>118.00</td>\n",
       "      <td>116.64</td>\n",
       "      <td>28.18</td>\n",
       "      <td>0.82</td>\n",
       "      <td>197.29</td>\n",
       "      <td>235.32</td>\n",
       "      <td>102.30</td>\n",
       "      <td>0.00</td>\n",
       "      <td>4.36</td>\n",
       "    </tr>\n",
       "    <tr>\n",
       "      <th>515</th>\n",
       "      <td>31-05-2018 00:00</td>\n",
       "      <td>01-06-2018 00:00</td>\n",
       "      <td>83.57</td>\n",
       "      <td>107.98</td>\n",
       "      <td>119.46</td>\n",
       "      <td>13.18</td>\n",
       "      <td>0.60</td>\n",
       "      <td>203.87</td>\n",
       "      <td>183.65</td>\n",
       "      <td>112.25</td>\n",
       "      <td>0.00</td>\n",
       "      <td>5.35</td>\n",
       "    </tr>\n",
       "    <tr>\n",
       "      <th>516</th>\n",
       "      <td>01-06-2018 00:00</td>\n",
       "      <td>02-06-2018 00:00</td>\n",
       "      <td>36.59</td>\n",
       "      <td>88.93</td>\n",
       "      <td>77.78</td>\n",
       "      <td>24.10</td>\n",
       "      <td>0.48</td>\n",
       "      <td>134.11</td>\n",
       "      <td>102.73</td>\n",
       "      <td>103.79</td>\n",
       "      <td>0.00</td>\n",
       "      <td>2.07</td>\n",
       "    </tr>\n",
       "    <tr>\n",
       "      <th>517</th>\n",
       "      <td>02-06-2018 00:00</td>\n",
       "      <td>03-06-2018 00:00</td>\n",
       "      <td>70.72</td>\n",
       "      <td>100.70</td>\n",
       "      <td>110.40</td>\n",
       "      <td>24.50</td>\n",
       "      <td>0.65</td>\n",
       "      <td>178.38</td>\n",
       "      <td>192.11</td>\n",
       "      <td>151.57</td>\n",
       "      <td>0.00</td>\n",
       "      <td>2.46</td>\n",
       "    </tr>\n",
       "    <tr>\n",
       "      <th>...</th>\n",
       "      <td>...</td>\n",
       "      <td>...</td>\n",
       "      <td>...</td>\n",
       "      <td>...</td>\n",
       "      <td>...</td>\n",
       "      <td>...</td>\n",
       "      <td>...</td>\n",
       "      <td>...</td>\n",
       "      <td>...</td>\n",
       "      <td>...</td>\n",
       "      <td>...</td>\n",
       "      <td>...</td>\n",
       "    </tr>\n",
       "    <tr>\n",
       "      <th>2449</th>\n",
       "      <td>16-09-2023 00:00</td>\n",
       "      <td>17-09-2023 00:00</td>\n",
       "      <td>27.94</td>\n",
       "      <td>44.43</td>\n",
       "      <td>46.35</td>\n",
       "      <td>28.89</td>\n",
       "      <td>1.45</td>\n",
       "      <td>29.71</td>\n",
       "      <td>63.46</td>\n",
       "      <td>32.60</td>\n",
       "      <td>2.25</td>\n",
       "      <td>17.82</td>\n",
       "    </tr>\n",
       "    <tr>\n",
       "      <th>2450</th>\n",
       "      <td>17-09-2023 00:00</td>\n",
       "      <td>18-09-2023 00:00</td>\n",
       "      <td>24.87</td>\n",
       "      <td>39.37</td>\n",
       "      <td>41.16</td>\n",
       "      <td>59.49</td>\n",
       "      <td>1.21</td>\n",
       "      <td>27.07</td>\n",
       "      <td>52.36</td>\n",
       "      <td>26.07</td>\n",
       "      <td>1.48</td>\n",
       "      <td>12.70</td>\n",
       "    </tr>\n",
       "    <tr>\n",
       "      <th>2451</th>\n",
       "      <td>18-09-2023 00:00</td>\n",
       "      <td>19-09-2023 00:00</td>\n",
       "      <td>29.88</td>\n",
       "      <td>47.02</td>\n",
       "      <td>49.29</td>\n",
       "      <td>67.74</td>\n",
       "      <td>1.38</td>\n",
       "      <td>29.16</td>\n",
       "      <td>46.40</td>\n",
       "      <td>18.20</td>\n",
       "      <td>1.55</td>\n",
       "      <td>12.97</td>\n",
       "    </tr>\n",
       "    <tr>\n",
       "      <th>2452</th>\n",
       "      <td>19-09-2023 00:00</td>\n",
       "      <td>20-09-2023 00:00</td>\n",
       "      <td>34.90</td>\n",
       "      <td>51.20</td>\n",
       "      <td>55.60</td>\n",
       "      <td>64.36</td>\n",
       "      <td>1.46</td>\n",
       "      <td>29.67</td>\n",
       "      <td>58.34</td>\n",
       "      <td>25.74</td>\n",
       "      <td>1.62</td>\n",
       "      <td>13.36</td>\n",
       "    </tr>\n",
       "    <tr>\n",
       "      <th>2453</th>\n",
       "      <td>20-09-2023 00:00</td>\n",
       "      <td>20-09-2023 16:12</td>\n",
       "      <td>37.86</td>\n",
       "      <td>64.37</td>\n",
       "      <td>65.02</td>\n",
       "      <td>70.03</td>\n",
       "      <td>1.44</td>\n",
       "      <td>36.80</td>\n",
       "      <td>78.75</td>\n",
       "      <td>41.00</td>\n",
       "      <td>2.17</td>\n",
       "      <td>16.36</td>\n",
       "    </tr>\n",
       "  </tbody>\n",
       "</table>\n",
       "<p>1515 rows × 12 columns</p>\n",
       "</div>"
      ],
      "text/plain": [
       "             From Date           To Date      NO     NO2     NOx  Ozone    CO  \\\n",
       "513   29-05-2018 00:00  30-05-2018 00:00  132.14  106.99  168.47  11.52  1.02   \n",
       "514   30-05-2018 00:00  31-05-2018 00:00   67.80  118.00  116.64  28.18  0.82   \n",
       "515   31-05-2018 00:00  01-06-2018 00:00   83.57  107.98  119.46  13.18  0.60   \n",
       "516   01-06-2018 00:00  02-06-2018 00:00   36.59   88.93   77.78  24.10  0.48   \n",
       "517   02-06-2018 00:00  03-06-2018 00:00   70.72  100.70  110.40  24.50  0.65   \n",
       "...                ...               ...     ...     ...     ...    ...   ...   \n",
       "2449  16-09-2023 00:00  17-09-2023 00:00   27.94   44.43   46.35  28.89  1.45   \n",
       "2450  17-09-2023 00:00  18-09-2023 00:00   24.87   39.37   41.16  59.49  1.21   \n",
       "2451  18-09-2023 00:00  19-09-2023 00:00   29.88   47.02   49.29  67.74  1.38   \n",
       "2452  19-09-2023 00:00  20-09-2023 00:00   34.90   51.20   55.60  64.36  1.46   \n",
       "2453  20-09-2023 00:00  20-09-2023 16:12   37.86   64.37   65.02  70.03  1.44   \n",
       "\n",
       "         NH3    PM10   PM2.5  Benzene    SO2  \n",
       "513   146.57  214.22  115.74     0.02   7.14  \n",
       "514   197.29  235.32  102.30     0.00   4.36  \n",
       "515   203.87  183.65  112.25     0.00   5.35  \n",
       "516   134.11  102.73  103.79     0.00   2.07  \n",
       "517   178.38  192.11  151.57     0.00   2.46  \n",
       "...      ...     ...     ...      ...    ...  \n",
       "2449   29.71   63.46   32.60     2.25  17.82  \n",
       "2450   27.07   52.36   26.07     1.48  12.70  \n",
       "2451   29.16   46.40   18.20     1.55  12.97  \n",
       "2452   29.67   58.34   25.74     1.62  13.36  \n",
       "2453   36.80   78.75   41.00     2.17  16.36  \n",
       "\n",
       "[1515 rows x 12 columns]"
      ]
     },
     "execution_count": 7,
     "metadata": {},
     "output_type": "execute_result"
    }
   ],
   "source": [
    "data.dropna()"
   ]
  },
  {
   "cell_type": "code",
   "execution_count": 8,
   "id": "30d91f01-e387-4611-9b61-7f72613b355c",
   "metadata": {},
   "outputs": [],
   "source": [
    "data=data.dropna()"
   ]
  },
  {
   "cell_type": "code",
   "execution_count": 9,
   "id": "9920ef68-c1b2-4be7-8745-df3f2532bca0",
   "metadata": {},
   "outputs": [
    {
     "data": {
      "text/plain": [
       "(1515, 12)"
      ]
     },
     "execution_count": 9,
     "metadata": {},
     "output_type": "execute_result"
    }
   ],
   "source": [
    "data.shape"
   ]
  },
  {
   "cell_type": "code",
   "execution_count": 10,
   "id": "b4fd8ac2-abc5-4793-a14d-c6d512c4cd9e",
   "metadata": {},
   "outputs": [
    {
     "data": {
      "text/html": [
       "<div>\n",
       "<style scoped>\n",
       "    .dataframe tbody tr th:only-of-type {\n",
       "        vertical-align: middle;\n",
       "    }\n",
       "\n",
       "    .dataframe tbody tr th {\n",
       "        vertical-align: top;\n",
       "    }\n",
       "\n",
       "    .dataframe thead th {\n",
       "        text-align: right;\n",
       "    }\n",
       "</style>\n",
       "<table border=\"1\" class=\"dataframe\">\n",
       "  <thead>\n",
       "    <tr style=\"text-align: right;\">\n",
       "      <th></th>\n",
       "      <th>From Date</th>\n",
       "      <th>To Date</th>\n",
       "      <th>NO</th>\n",
       "      <th>NO2</th>\n",
       "      <th>NOx</th>\n",
       "      <th>Ozone</th>\n",
       "      <th>CO</th>\n",
       "      <th>NH3</th>\n",
       "      <th>PM10</th>\n",
       "      <th>PM2.5</th>\n",
       "      <th>Benzene</th>\n",
       "      <th>SO2</th>\n",
       "    </tr>\n",
       "  </thead>\n",
       "  <tbody>\n",
       "    <tr>\n",
       "      <th>513</th>\n",
       "      <td>29-05-2018 00:00</td>\n",
       "      <td>30-05-2018 00:00</td>\n",
       "      <td>132.14</td>\n",
       "      <td>106.99</td>\n",
       "      <td>168.47</td>\n",
       "      <td>11.52</td>\n",
       "      <td>1.02</td>\n",
       "      <td>146.57</td>\n",
       "      <td>214.22</td>\n",
       "      <td>115.74</td>\n",
       "      <td>0.02</td>\n",
       "      <td>7.14</td>\n",
       "    </tr>\n",
       "    <tr>\n",
       "      <th>514</th>\n",
       "      <td>30-05-2018 00:00</td>\n",
       "      <td>31-05-2018 00:00</td>\n",
       "      <td>67.80</td>\n",
       "      <td>118.00</td>\n",
       "      <td>116.64</td>\n",
       "      <td>28.18</td>\n",
       "      <td>0.82</td>\n",
       "      <td>197.29</td>\n",
       "      <td>235.32</td>\n",
       "      <td>102.30</td>\n",
       "      <td>0.00</td>\n",
       "      <td>4.36</td>\n",
       "    </tr>\n",
       "    <tr>\n",
       "      <th>515</th>\n",
       "      <td>31-05-2018 00:00</td>\n",
       "      <td>01-06-2018 00:00</td>\n",
       "      <td>83.57</td>\n",
       "      <td>107.98</td>\n",
       "      <td>119.46</td>\n",
       "      <td>13.18</td>\n",
       "      <td>0.60</td>\n",
       "      <td>203.87</td>\n",
       "      <td>183.65</td>\n",
       "      <td>112.25</td>\n",
       "      <td>0.00</td>\n",
       "      <td>5.35</td>\n",
       "    </tr>\n",
       "    <tr>\n",
       "      <th>516</th>\n",
       "      <td>01-06-2018 00:00</td>\n",
       "      <td>02-06-2018 00:00</td>\n",
       "      <td>36.59</td>\n",
       "      <td>88.93</td>\n",
       "      <td>77.78</td>\n",
       "      <td>24.10</td>\n",
       "      <td>0.48</td>\n",
       "      <td>134.11</td>\n",
       "      <td>102.73</td>\n",
       "      <td>103.79</td>\n",
       "      <td>0.00</td>\n",
       "      <td>2.07</td>\n",
       "    </tr>\n",
       "    <tr>\n",
       "      <th>517</th>\n",
       "      <td>02-06-2018 00:00</td>\n",
       "      <td>03-06-2018 00:00</td>\n",
       "      <td>70.72</td>\n",
       "      <td>100.70</td>\n",
       "      <td>110.40</td>\n",
       "      <td>24.50</td>\n",
       "      <td>0.65</td>\n",
       "      <td>178.38</td>\n",
       "      <td>192.11</td>\n",
       "      <td>151.57</td>\n",
       "      <td>0.00</td>\n",
       "      <td>2.46</td>\n",
       "    </tr>\n",
       "  </tbody>\n",
       "</table>\n",
       "</div>"
      ],
      "text/plain": [
       "            From Date           To Date      NO     NO2     NOx  Ozone    CO  \\\n",
       "513  29-05-2018 00:00  30-05-2018 00:00  132.14  106.99  168.47  11.52  1.02   \n",
       "514  30-05-2018 00:00  31-05-2018 00:00   67.80  118.00  116.64  28.18  0.82   \n",
       "515  31-05-2018 00:00  01-06-2018 00:00   83.57  107.98  119.46  13.18  0.60   \n",
       "516  01-06-2018 00:00  02-06-2018 00:00   36.59   88.93   77.78  24.10  0.48   \n",
       "517  02-06-2018 00:00  03-06-2018 00:00   70.72  100.70  110.40  24.50  0.65   \n",
       "\n",
       "        NH3    PM10   PM2.5  Benzene   SO2  \n",
       "513  146.57  214.22  115.74     0.02  7.14  \n",
       "514  197.29  235.32  102.30     0.00  4.36  \n",
       "515  203.87  183.65  112.25     0.00  5.35  \n",
       "516  134.11  102.73  103.79     0.00  2.07  \n",
       "517  178.38  192.11  151.57     0.00  2.46  "
      ]
     },
     "execution_count": 10,
     "metadata": {},
     "output_type": "execute_result"
    }
   ],
   "source": [
    "data.head()"
   ]
  },
  {
   "cell_type": "code",
   "execution_count": 11,
   "id": "23eef634-f8fc-4140-bfbf-33214a6bd46b",
   "metadata": {},
   "outputs": [],
   "source": [
    "x=data.iloc[:,[5,6]]\n",
    "y=data.iloc[:,9]"
   ]
  },
  {
   "cell_type": "code",
   "execution_count": 12,
   "id": "afeaa304-36ae-46ce-a3d0-e0a0e179385f",
   "metadata": {},
   "outputs": [
    {
     "data": {
      "text/html": [
       "<div>\n",
       "<style scoped>\n",
       "    .dataframe tbody tr th:only-of-type {\n",
       "        vertical-align: middle;\n",
       "    }\n",
       "\n",
       "    .dataframe tbody tr th {\n",
       "        vertical-align: top;\n",
       "    }\n",
       "\n",
       "    .dataframe thead th {\n",
       "        text-align: right;\n",
       "    }\n",
       "</style>\n",
       "<table border=\"1\" class=\"dataframe\">\n",
       "  <thead>\n",
       "    <tr style=\"text-align: right;\">\n",
       "      <th></th>\n",
       "      <th>Ozone</th>\n",
       "      <th>CO</th>\n",
       "    </tr>\n",
       "  </thead>\n",
       "  <tbody>\n",
       "    <tr>\n",
       "      <th>513</th>\n",
       "      <td>11.52</td>\n",
       "      <td>1.02</td>\n",
       "    </tr>\n",
       "    <tr>\n",
       "      <th>514</th>\n",
       "      <td>28.18</td>\n",
       "      <td>0.82</td>\n",
       "    </tr>\n",
       "    <tr>\n",
       "      <th>515</th>\n",
       "      <td>13.18</td>\n",
       "      <td>0.60</td>\n",
       "    </tr>\n",
       "    <tr>\n",
       "      <th>516</th>\n",
       "      <td>24.10</td>\n",
       "      <td>0.48</td>\n",
       "    </tr>\n",
       "    <tr>\n",
       "      <th>517</th>\n",
       "      <td>24.50</td>\n",
       "      <td>0.65</td>\n",
       "    </tr>\n",
       "    <tr>\n",
       "      <th>...</th>\n",
       "      <td>...</td>\n",
       "      <td>...</td>\n",
       "    </tr>\n",
       "    <tr>\n",
       "      <th>2449</th>\n",
       "      <td>28.89</td>\n",
       "      <td>1.45</td>\n",
       "    </tr>\n",
       "    <tr>\n",
       "      <th>2450</th>\n",
       "      <td>59.49</td>\n",
       "      <td>1.21</td>\n",
       "    </tr>\n",
       "    <tr>\n",
       "      <th>2451</th>\n",
       "      <td>67.74</td>\n",
       "      <td>1.38</td>\n",
       "    </tr>\n",
       "    <tr>\n",
       "      <th>2452</th>\n",
       "      <td>64.36</td>\n",
       "      <td>1.46</td>\n",
       "    </tr>\n",
       "    <tr>\n",
       "      <th>2453</th>\n",
       "      <td>70.03</td>\n",
       "      <td>1.44</td>\n",
       "    </tr>\n",
       "  </tbody>\n",
       "</table>\n",
       "<p>1515 rows × 2 columns</p>\n",
       "</div>"
      ],
      "text/plain": [
       "      Ozone    CO\n",
       "513   11.52  1.02\n",
       "514   28.18  0.82\n",
       "515   13.18  0.60\n",
       "516   24.10  0.48\n",
       "517   24.50  0.65\n",
       "...     ...   ...\n",
       "2449  28.89  1.45\n",
       "2450  59.49  1.21\n",
       "2451  67.74  1.38\n",
       "2452  64.36  1.46\n",
       "2453  70.03  1.44\n",
       "\n",
       "[1515 rows x 2 columns]"
      ]
     },
     "execution_count": 12,
     "metadata": {},
     "output_type": "execute_result"
    }
   ],
   "source": [
    "x"
   ]
  },
  {
   "cell_type": "code",
   "execution_count": 13,
   "id": "4002f280-2b1c-4341-a985-8305d7910779",
   "metadata": {},
   "outputs": [
    {
     "data": {
      "text/plain": [
       "513     115.74\n",
       "514     102.30\n",
       "515     112.25\n",
       "516     103.79\n",
       "517     151.57\n",
       "         ...  \n",
       "2449     32.60\n",
       "2450     26.07\n",
       "2451     18.20\n",
       "2452     25.74\n",
       "2453     41.00\n",
       "Name: PM2.5, Length: 1515, dtype: float64"
      ]
     },
     "execution_count": 13,
     "metadata": {},
     "output_type": "execute_result"
    }
   ],
   "source": [
    "y"
   ]
  },
  {
   "cell_type": "code",
   "execution_count": 16,
   "id": "9ee7203a-dca6-448a-a9c4-ba6c487afb64",
   "metadata": {},
   "outputs": [],
   "source": [
    "from sklearn.model_selection import train_test_split"
   ]
  },
  {
   "cell_type": "code",
   "execution_count": 17,
   "id": "a6c2b0d3-14dd-404a-be03-cf781de74c06",
   "metadata": {},
   "outputs": [],
   "source": [
    "xtrain,xtest,ytrain,ytest=train_test_split(x,y,test_size=0.4,random_state=0)"
   ]
  },
  {
   "cell_type": "code",
   "execution_count": 18,
   "id": "0de69d57-3580-4fc2-923f-2748537261ab",
   "metadata": {},
   "outputs": [],
   "source": [
    "from sklearn.linear_model import LinearRegression"
   ]
  },
  {
   "cell_type": "code",
   "execution_count": 19,
   "id": "388acf2e-166b-4390-b0df-3641b8e67e65",
   "metadata": {},
   "outputs": [],
   "source": [
    "linreg=LinearRegression()"
   ]
  },
  {
   "cell_type": "code",
   "execution_count": 20,
   "id": "9cf99aa9-2e0c-411d-b2ec-c8e806ce1174",
   "metadata": {},
   "outputs": [],
   "source": [
    "linreg.fit(xtrain,ytrain)\n",
    "ypred=linreg.predict(xtest)"
   ]
  },
  {
   "cell_type": "code",
   "execution_count": 21,
   "id": "72b7b8dd-3b5a-4998-9b01-e93d998f5354",
   "metadata": {},
   "outputs": [
    {
     "data": {
      "text/plain": [
       "<matplotlib.collections.PathCollection at 0x1d34cdb82d0>"
      ]
     },
     "execution_count": 21,
     "metadata": {},
     "output_type": "execute_result"
    },
    {
     "data": {
      "image/png": "[encoded data removed]",
      "text/plain": [
       "<Figure size 640x480 with 1 Axes>"
      ]
     },
     "metadata": {},
     "output_type": "display_data"
    }
   ],
   "source": [
    "plt.scatter(ytest,ypred)"
   ]
  },
  {
   "cell_type": "code",
   "execution_count": 23,
   "id": "a272a5a9-058c-4216-b144-5c7b5b4ab995",
   "metadata": {},
   "outputs": [],
   "source": [
    "from sklearn.metrics import mean_absolute_error as mae , mean_squared_error as mse, r2_score"
   ]
  },
  {
   "cell_type": "code",
   "execution_count": 25,
   "id": "e2edc8da-ff2b-4ed5-a9e3-f1b10d7603d4",
   "metadata": {},
   "outputs": [
    {
     "name": "stdout",
     "output_type": "stream",
     "text": [
      "MAE:-  49.982109570495446\n"
     ]
    }
   ],
   "source": [
    "print(f\"MAE:-  {mae(ytest,ypred)}\")"
   ]
  },
  {
   "cell_type": "code",
   "execution_count": 26,
   "id": "192c2ee8-4da3-49db-812a-b056198c1772",
   "metadata": {},
   "outputs": [
    {
     "name": "stdout",
     "output_type": "stream",
     "text": [
      "MSE:-  5280.9897550431215\n"
     ]
    }
   ],
   "source": [
    "print(f\"MSE:-  {mse(ytest,ypred)}\")"
   ]
  },
  {
   "cell_type": "code",
   "execution_count": 27,
   "id": "e0216924-cffa-4a4c-8b28-b042f4e6032f",
   "metadata": {},
   "outputs": [
    {
     "name": "stdout",
     "output_type": "stream",
     "text": [
      "RMSE:-  72.67041870694788\n"
     ]
    }
   ],
   "source": [
    "print(f\"RMSE:-  {np.sqrt(mse(ytest,ypred))}\")"
   ]
  },
  {
   "cell_type": "code",
   "execution_count": 28,
   "id": "a4ef8538-e3dd-45c1-87fe-1ee76c0d55f0",
   "metadata": {},
   "outputs": [
    {
     "name": "stdout",
     "output_type": "stream",
     "text": [
      "R-squared:-  0.29246920056748393\n"
     ]
    }
   ],
   "source": [
    "print(f\"R-squared:-  {r2_score(ytest,ypred)}\")"
   ]
  }
 ],
 "metadata": {
  "kernelspec": {
   "display_name": "Python 3 (ipykernel)",
   "language": "python",
   "name": "python3"
  },
  "language_info": {
   "codemirror_mode": {
    "name": "ipython",
    "version": 3
   },
   "file_extension": ".py",
   "mimetype": "text/x-python",
   "name": "python",
   "nbconvert_exporter": "python",
   "pygments_lexer": "ipython3",
   "version": "3.11.5"
  }
 },
 "nbformat": 4,
 "nbformat_minor": 5
}
