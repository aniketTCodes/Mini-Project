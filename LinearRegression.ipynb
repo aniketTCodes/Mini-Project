{
 "cells": [
  {
   "cell_type": "code",
   "execution_count": 2,
   "id": "7c38e342-c93c-490c-81fa-2bc6e2b367b9",
   "metadata": {},
   "outputs": [],
   "source": [
    "import pandas as pd\n",
    "import numpy as np"
   ]
  },
  {
   "cell_type": "code",
   "execution_count": 3,
   "id": "0c8b4a1c-b7a5-45ec-808d-a931f8afd0e0",
   "metadata": {},
   "outputs": [],
   "source": [
    "data=pd.read_csv(\"dataset.csv\")"
   ]
  },
  {
   "cell_type": "code",
   "execution_count": 4,
   "id": "50557ea0-ad63-4ed5-b4cb-034125df98f0",
   "metadata": {},
   "outputs": [
    {
     "data": {
      "text/html": [
       "<div>\n",
       "<style scoped>\n",
       "    .dataframe tbody tr th:only-of-type {\n",
       "        vertical-align: middle;\n",
       "    }\n",
       "\n",
       "    .dataframe tbody tr th {\n",
       "        vertical-align: top;\n",
       "    }\n",
       "\n",
       "    .dataframe thead th {\n",
       "        text-align: right;\n",
       "    }\n",
       "</style>\n",
       "<table border=\"1\" class=\"dataframe\">\n",
       "  <thead>\n",
       "    <tr style=\"text-align: right;\">\n",
       "      <th></th>\n",
       "      <th>From Date</th>\n",
       "      <th>To Date</th>\n",
       "      <th>NO</th>\n",
       "      <th>NO2</th>\n",
       "      <th>NOx</th>\n",
       "      <th>Ozone</th>\n",
       "      <th>CO</th>\n",
       "      <th>NH3</th>\n",
       "      <th>PM10</th>\n",
       "      <th>PM2.5</th>\n",
       "      <th>Benzene</th>\n",
       "      <th>SO2</th>\n",
       "    </tr>\n",
       "  </thead>\n",
       "  <tbody>\n",
       "    <tr>\n",
       "      <th>0</th>\n",
       "      <td>01-01-2017 00:00</td>\n",
       "      <td>02-01-2017 00:00</td>\n",
       "      <td>155.50</td>\n",
       "      <td>48.37</td>\n",
       "      <td>151.97</td>\n",
       "      <td>NaN</td>\n",
       "      <td>NaN</td>\n",
       "      <td>217.66</td>\n",
       "      <td>568.56</td>\n",
       "      <td>524.70</td>\n",
       "      <td>NaN</td>\n",
       "      <td>NaN</td>\n",
       "    </tr>\n",
       "    <tr>\n",
       "      <th>1</th>\n",
       "      <td>02-01-2017 00:00</td>\n",
       "      <td>03-01-2017 00:00</td>\n",
       "      <td>139.47</td>\n",
       "      <td>46.49</td>\n",
       "      <td>137.99</td>\n",
       "      <td>NaN</td>\n",
       "      <td>NaN</td>\n",
       "      <td>205.60</td>\n",
       "      <td>434.06</td>\n",
       "      <td>374.07</td>\n",
       "      <td>NaN</td>\n",
       "      <td>NaN</td>\n",
       "    </tr>\n",
       "    <tr>\n",
       "      <th>2</th>\n",
       "      <td>03-01-2017 00:00</td>\n",
       "      <td>04-01-2017 00:00</td>\n",
       "      <td>142.26</td>\n",
       "      <td>50.00</td>\n",
       "      <td>142.23</td>\n",
       "      <td>NaN</td>\n",
       "      <td>NaN</td>\n",
       "      <td>209.59</td>\n",
       "      <td>250.28</td>\n",
       "      <td>167.58</td>\n",
       "      <td>NaN</td>\n",
       "      <td>NaN</td>\n",
       "    </tr>\n",
       "    <tr>\n",
       "      <th>3</th>\n",
       "      <td>04-01-2017 00:00</td>\n",
       "      <td>05-01-2017 00:00</td>\n",
       "      <td>198.93</td>\n",
       "      <td>54.62</td>\n",
       "      <td>190.66</td>\n",
       "      <td>NaN</td>\n",
       "      <td>NaN</td>\n",
       "      <td>272.34</td>\n",
       "      <td>239.79</td>\n",
       "      <td>179.03</td>\n",
       "      <td>NaN</td>\n",
       "      <td>NaN</td>\n",
       "    </tr>\n",
       "    <tr>\n",
       "      <th>4</th>\n",
       "      <td>05-01-2017 00:00</td>\n",
       "      <td>06-01-2017 00:00</td>\n",
       "      <td>153.33</td>\n",
       "      <td>60.19</td>\n",
       "      <td>156.64</td>\n",
       "      <td>NaN</td>\n",
       "      <td>NaN</td>\n",
       "      <td>230.84</td>\n",
       "      <td>239.06</td>\n",
       "      <td>185.73</td>\n",
       "      <td>NaN</td>\n",
       "      <td>NaN</td>\n",
       "    </tr>\n",
       "  </tbody>\n",
       "</table>\n",
       "</div>"
      ],
      "text/plain": [
       "          From Date           To Date      NO    NO2     NOx  Ozone  CO  \\\n",
       "0  01-01-2017 00:00  02-01-2017 00:00  155.50  48.37  151.97    NaN NaN   \n",
       "1  02-01-2017 00:00  03-01-2017 00:00  139.47  46.49  137.99    NaN NaN   \n",
       "2  03-01-2017 00:00  04-01-2017 00:00  142.26  50.00  142.23    NaN NaN   \n",
       "3  04-01-2017 00:00  05-01-2017 00:00  198.93  54.62  190.66    NaN NaN   \n",
       "4  05-01-2017 00:00  06-01-2017 00:00  153.33  60.19  156.64    NaN NaN   \n",
       "\n",
       "      NH3    PM10   PM2.5  Benzene  SO2  \n",
       "0  217.66  568.56  524.70      NaN  NaN  \n",
       "1  205.60  434.06  374.07      NaN  NaN  \n",
       "2  209.59  250.28  167.58      NaN  NaN  \n",
       "3  272.34  239.79  179.03      NaN  NaN  \n",
       "4  230.84  239.06  185.73      NaN  NaN  "
      ]
     },
     "execution_count": 4,
     "metadata": {},
     "output_type": "execute_result"
    }
   ],
   "source": [
    "data.head()"
   ]
  },
  {
   "cell_type": "code",
   "execution_count": 5,
   "id": "ae40b70f-1f07-4f41-98f2-33d3549bf14f",
   "metadata": {},
   "outputs": [
    {
     "name": "stdout",
     "output_type": "stream",
     "text": [
      "<class 'pandas.core.frame.DataFrame'>\n",
      "RangeIndex: 2454 entries, 0 to 2453\n",
      "Data columns (total 12 columns):\n",
      " #   Column     Non-Null Count  Dtype  \n",
      "---  ------     --------------  -----  \n",
      " 0   From Date  2454 non-null   object \n",
      " 1   To Date    2454 non-null   object \n",
      " 2   NO         2302 non-null   float64\n",
      " 3   NO2        2334 non-null   float64\n",
      " 4   NOx        2335 non-null   float64\n",
      " 5   Ozone      1910 non-null   float64\n",
      " 6   CO         1918 non-null   float64\n",
      " 7   NH3        2341 non-null   float64\n",
      " 8   PM10       2071 non-null   float64\n",
      " 9   PM2.5      2359 non-null   float64\n",
      " 10  Benzene    1782 non-null   float64\n",
      " 11  SO2        1901 non-null   float64\n",
      "dtypes: float64(10), object(2)\n",
      "memory usage: 230.2+ KB\n"
     ]
    }
   ],
   "source": [
    "data.info()"
   ]
  },
  {
   "cell_type": "code",
   "execution_count": 6,
   "id": "84663224-2edd-43b7-8151-f317d10c7c85",
   "metadata": {},
   "outputs": [
    {
     "data": {
      "text/html": [
       "<div>\n",
       "<style scoped>\n",
       "    .dataframe tbody tr th:only-of-type {\n",
       "        vertical-align: middle;\n",
       "    }\n",
       "\n",
       "    .dataframe tbody tr th {\n",
       "        vertical-align: top;\n",
       "    }\n",
       "\n",
       "    .dataframe thead th {\n",
       "        text-align: right;\n",
       "    }\n",
       "</style>\n",
       "<table border=\"1\" class=\"dataframe\">\n",
       "  <thead>\n",
       "    <tr style=\"text-align: right;\">\n",
       "      <th></th>\n",
       "      <th>NO</th>\n",
       "      <th>NO2</th>\n",
       "      <th>NOx</th>\n",
       "      <th>Ozone</th>\n",
       "      <th>CO</th>\n",
       "      <th>NH3</th>\n",
       "      <th>PM10</th>\n",
       "      <th>PM2.5</th>\n",
       "      <th>Benzene</th>\n",
       "      <th>SO2</th>\n",
       "    </tr>\n",
       "  </thead>\n",
       "  <tbody>\n",
       "    <tr>\n",
       "      <th>count</th>\n",
       "      <td>2302.000000</td>\n",
       "      <td>2334.000000</td>\n",
       "      <td>2335.000000</td>\n",
       "      <td>1910.000000</td>\n",
       "      <td>1918.000000</td>\n",
       "      <td>2341.000000</td>\n",
       "      <td>2071.000000</td>\n",
       "      <td>2359.000000</td>\n",
       "      <td>1782.000000</td>\n",
       "      <td>1901.000000</td>\n",
       "    </tr>\n",
       "    <tr>\n",
       "      <th>mean</th>\n",
       "      <td>46.653189</td>\n",
       "      <td>46.816907</td>\n",
       "      <td>60.815602</td>\n",
       "      <td>23.530068</td>\n",
       "      <td>1.691335</td>\n",
       "      <td>47.656830</td>\n",
       "      <td>176.674051</td>\n",
       "      <td>110.977711</td>\n",
       "      <td>6.576515</td>\n",
       "      <td>12.304298</td>\n",
       "    </tr>\n",
       "    <tr>\n",
       "      <th>std</th>\n",
       "      <td>44.025346</td>\n",
       "      <td>38.927769</td>\n",
       "      <td>49.816035</td>\n",
       "      <td>14.363150</td>\n",
       "      <td>1.166835</td>\n",
       "      <td>46.294588</td>\n",
       "      <td>99.776154</td>\n",
       "      <td>85.040482</td>\n",
       "      <td>7.834117</td>\n",
       "      <td>9.617364</td>\n",
       "    </tr>\n",
       "    <tr>\n",
       "      <th>min</th>\n",
       "      <td>0.080000</td>\n",
       "      <td>0.180000</td>\n",
       "      <td>0.000000</td>\n",
       "      <td>0.890000</td>\n",
       "      <td>0.000000</td>\n",
       "      <td>0.590000</td>\n",
       "      <td>14.920000</td>\n",
       "      <td>0.760000</td>\n",
       "      <td>0.000000</td>\n",
       "      <td>0.030000</td>\n",
       "    </tr>\n",
       "    <tr>\n",
       "      <th>25%</th>\n",
       "      <td>17.990000</td>\n",
       "      <td>22.367500</td>\n",
       "      <td>27.490000</td>\n",
       "      <td>13.312500</td>\n",
       "      <td>0.870000</td>\n",
       "      <td>20.730000</td>\n",
       "      <td>100.060000</td>\n",
       "      <td>52.235000</td>\n",
       "      <td>1.250000</td>\n",
       "      <td>6.270000</td>\n",
       "    </tr>\n",
       "    <tr>\n",
       "      <th>50%</th>\n",
       "      <td>32.290000</td>\n",
       "      <td>34.675000</td>\n",
       "      <td>45.100000</td>\n",
       "      <td>19.015000</td>\n",
       "      <td>1.380000</td>\n",
       "      <td>33.680000</td>\n",
       "      <td>160.690000</td>\n",
       "      <td>84.270000</td>\n",
       "      <td>3.725000</td>\n",
       "      <td>9.740000</td>\n",
       "    </tr>\n",
       "    <tr>\n",
       "      <th>75%</th>\n",
       "      <td>57.827500</td>\n",
       "      <td>58.120000</td>\n",
       "      <td>76.180000</td>\n",
       "      <td>31.047500</td>\n",
       "      <td>2.230000</td>\n",
       "      <td>54.920000</td>\n",
       "      <td>231.135000</td>\n",
       "      <td>143.890000</td>\n",
       "      <td>9.720000</td>\n",
       "      <td>15.730000</td>\n",
       "    </tr>\n",
       "    <tr>\n",
       "      <th>max</th>\n",
       "      <td>416.840000</td>\n",
       "      <td>479.060000</td>\n",
       "      <td>414.680000</td>\n",
       "      <td>102.160000</td>\n",
       "      <td>10.320000</td>\n",
       "      <td>349.080000</td>\n",
       "      <td>691.840000</td>\n",
       "      <td>743.750000</td>\n",
       "      <td>103.750000</td>\n",
       "      <td>111.030000</td>\n",
       "    </tr>\n",
       "  </tbody>\n",
       "</table>\n",
       "</div>"
      ],
      "text/plain": [
       "                NO          NO2          NOx        Ozone           CO  \\\n",
       "count  2302.000000  2334.000000  2335.000000  1910.000000  1918.000000   \n",
       "mean     46.653189    46.816907    60.815602    23.530068     1.691335   \n",
       "std      44.025346    38.927769    49.816035    14.363150     1.166835   \n",
       "min       0.080000     0.180000     0.000000     0.890000     0.000000   \n",
       "25%      17.990000    22.367500    27.490000    13.312500     0.870000   \n",
       "50%      32.290000    34.675000    45.100000    19.015000     1.380000   \n",
       "75%      57.827500    58.120000    76.180000    31.047500     2.230000   \n",
       "max     416.840000   479.060000   414.680000   102.160000    10.320000   \n",
       "\n",
       "               NH3         PM10        PM2.5      Benzene          SO2  \n",
       "count  2341.000000  2071.000000  2359.000000  1782.000000  1901.000000  \n",
       "mean     47.656830   176.674051   110.977711     6.576515    12.304298  \n",
       "std      46.294588    99.776154    85.040482     7.834117     9.617364  \n",
       "min       0.590000    14.920000     0.760000     0.000000     0.030000  \n",
       "25%      20.730000   100.060000    52.235000     1.250000     6.270000  \n",
       "50%      33.680000   160.690000    84.270000     3.725000     9.740000  \n",
       "75%      54.920000   231.135000   143.890000     9.720000    15.730000  \n",
       "max     349.080000   691.840000   743.750000   103.750000   111.030000  "
      ]
     },
     "execution_count": 6,
     "metadata": {},
     "output_type": "execute_result"
    }
   ],
   "source": [
    "data.describe()"
   ]
  },
  {
   "cell_type": "code",
   "execution_count": 9,
   "id": "3d52b5d0-0075-41ea-acd8-fb5c9237ffe4",
   "metadata": {},
   "outputs": [
    {
     "data": {
      "text/plain": [
       "From Date      0\n",
       "To Date        0\n",
       "NO           152\n",
       "NO2          120\n",
       "NOx          119\n",
       "Ozone        544\n",
       "CO           536\n",
       "NH3          113\n",
       "PM10         383\n",
       "PM2.5         95\n",
       "Benzene      672\n",
       "SO2          553\n",
       "dtype: int64"
      ]
     },
     "execution_count": 9,
     "metadata": {},
     "output_type": "execute_result"
    }
   ],
   "source": [
    "data.isna().sum()"
   ]
  },
  {
   "cell_type": "code",
   "execution_count": 11,
   "id": "ec3519f6-93d7-4226-87bf-51e0102539f7",
   "metadata": {},
   "outputs": [],
   "source": [
    "nomean=data[\"NO\"].mean()\n",
    "data[\"NO\"].fillna(nomean,inplace=True)"
   ]
  },
  {
   "cell_type": "code",
   "execution_count": 12,
   "id": "7c42d131-daa0-4035-b686-ec2dd44663d0",
   "metadata": {},
   "outputs": [],
   "source": [
    "no2mean=data[\"NO2\"].mean()\n",
    "data[\"NO2\"].fillna(no2mean,inplace=True)"
   ]
  },
  {
   "cell_type": "code",
   "execution_count": 14,
   "id": "0571d58f-41c8-4373-92ea-0cc367685dcd",
   "metadata": {},
   "outputs": [],
   "source": [
    "noxmean=data[\"NOx\"].mean()\n",
    "data[\"NOx\"].fillna(noxmean,inplace=True)"
   ]
  },
  {
   "cell_type": "code",
   "execution_count": 15,
   "id": "322ef6ad-109a-4a9e-aa83-859548d22137",
   "metadata": {},
   "outputs": [],
   "source": [
    "ozonemean=data[\"Ozone\"].mean()\n",
    "data[\"Ozone\"].fillna(ozonemean,inplace=True)"
   ]
  },
  {
   "cell_type": "code",
   "execution_count": 16,
   "id": "8d96b513-999a-4e1f-b280-10e5e056331b",
   "metadata": {},
   "outputs": [],
   "source": [
    "comean=data[\"CO\"].mean()\n",
    "data[\"CO\"].fillna(comean,inplace=True)"
   ]
  },
  {
   "cell_type": "code",
   "execution_count": 17,
   "id": "f6fd872b-852c-43e2-8f34-342928ae9806",
   "metadata": {},
   "outputs": [],
   "source": [
    "nh3mean=data[\"NH3\"].mean()\n",
    "data[\"NH3\"].fillna(nh3mean,inplace=True)"
   ]
  },
  {
   "cell_type": "code",
   "execution_count": 18,
   "id": "25390950-5841-4966-ae3f-01e5705e15f3",
   "metadata": {},
   "outputs": [],
   "source": [
    "pm10mean=data[\"PM10\"].mean()\n",
    "data[\"PM10\"].fillna(pm10mean,inplace=True)"
   ]
  },
  {
   "cell_type": "code",
   "execution_count": 19,
   "id": "d9f9b6ef-884c-4b9a-91ce-25c8bfadbf10",
   "metadata": {},
   "outputs": [],
   "source": [
    "pm25mean=data[\"PM2.5\"].mean()\n",
    "data[\"PM2.5\"].fillna(pm25mean,inplace=True)"
   ]
  },
  {
   "cell_type": "code",
   "execution_count": 20,
   "id": "7c8905bb-2196-4eb3-a83f-014014560aed",
   "metadata": {},
   "outputs": [],
   "source": [
    "benzenemean=data[\"Benzene\"].mean()\n",
    "data[\"Benzene\"].fillna(benzenemean,inplace=True)"
   ]
  },
  {
   "cell_type": "code",
   "execution_count": 21,
   "id": "810d0d36-93a8-40e7-b8ba-ab21eca23418",
   "metadata": {},
   "outputs": [],
   "source": [
    "somean=data[\"SO2\"].mean()\n",
    "data[\"SO2\"].fillna(somean,inplace=True)"
   ]
  },
  {
   "cell_type": "code",
   "execution_count": 22,
   "id": "04c8ea05-e009-4793-bc6f-7855833c1977",
   "metadata": {},
   "outputs": [
    {
     "data": {
      "text/plain": [
       "From Date    0\n",
       "To Date      0\n",
       "NO           0\n",
       "NO2          0\n",
       "NOx          0\n",
       "Ozone        0\n",
       "CO           0\n",
       "NH3          0\n",
       "PM10         0\n",
       "PM2.5        0\n",
       "Benzene      0\n",
       "SO2          0\n",
       "dtype: int64"
      ]
     },
     "execution_count": 22,
     "metadata": {},
     "output_type": "execute_result"
    }
   ],
   "source": [
    "data.isna().sum()"
   ]
  },
  {
   "cell_type": "code",
   "execution_count": null,
   "id": "25650a3f-bc04-4197-ad1d-1b6c113d59c4",
   "metadata": {},
   "outputs": [],
   "source": [
    "\n"
   ]
  }
 ],
 "metadata": {
  "kernelspec": {
   "display_name": "Python 3 (ipykernel)",
   "language": "python",
   "name": "python3"
  },
  "language_info": {
   "codemirror_mode": {
    "name": "ipython",
    "version": 3
   },
   "file_extension": ".py",
   "mimetype": "text/x-python",
   "name": "python",
   "nbconvert_exporter": "python",
   "pygments_lexer": "ipython3",
   "version": "3.10.4"
  }
 },
 "nbformat": 4,
 "nbformat_minor": 5
}
